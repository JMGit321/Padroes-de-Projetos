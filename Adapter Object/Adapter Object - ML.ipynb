{
 "cells": [
  {
   "cell_type": "code",
   "execution_count": 220,
   "metadata": {},
   "outputs": [],
   "source": [
    "from sklearn.linear_model import LinearRegression\n",
    "from sklearn.ensemble import RandomForestClassifier\n",
    "from sklearn.model_selection import train_test_split\n",
    "from sklearn.metrics import accuracy_score,r2_score,confusion_matrix\n",
    "from sklearn.ensemble import RandomForestRegressor\n",
    "from sklearn.svm import SVC\n",
    "from abc import ABC,abstractmethod\n",
    "import pandas as pd"
   ]
  },
  {
   "cell_type": "code",
   "execution_count": 221,
   "metadata": {},
   "outputs": [],
   "source": [
    "#TARGET (interface do domínio específico que o cliente utiliza.)\n",
    "class RgInterface(ABC):\n",
    "    @abstractmethod\n",
    "    def train_model(self):\n",
    "        pass\n",
    "    @abstractmethod\n",
    "    def show_all_shapes(self):\n",
    "        pass\n",
    "    @abstractmethod\n",
    "    def predict(self):\n",
    "        pass\n",
    "    @abstractmethod\n",
    "    def accuracy(self):\n",
    "        pass"
   ]
  },
  {
   "cell_type": "code",
   "execution_count": 222,
   "metadata": {},
   "outputs": [],
   "source": [
    "#Interface da classe dos Classificadores\n",
    "class ClfInterface(ABC):\n",
    "    @abstractmethod\n",
    "    def confusion_matrix(self):\n",
    "        pass"
   ]
  },
  {
   "cell_type": "code",
   "execution_count": 223,
   "metadata": {},
   "outputs": [],
   "source": [
    "\n",
    "class Regressor(RgInterface):\n",
    "    def __init__(self,regressor,data,x,y):\n",
    "        self.__regressor = regressor\n",
    "        self.__data = data\n",
    "        self.__x = x\n",
    "        self.__y = y\n",
    "        self.__x_train = None\n",
    "        self.__x_test = None\n",
    "        self.__y_train = None\n",
    "        self.__y_test = None\n",
    "       \n",
    "    @property\n",
    "    def train_model(self):\n",
    "        self.__x_train,self.__x_test,self.__y_train,self.__y_test = train_test_split(self.__x,self.__y,test_size=0.2,shuffle=True,\n",
    "                                                                                random_state=1)\n",
    "        self.__regressor.fit(self.__x_train,self.__y_train)\n",
    "    @property\n",
    "    def show_all_shapes(self):\n",
    "        print(\"x_train shape:\",self.__x_train.shape)\n",
    "        print(\"x_test shape:\",self.__x_test.shape)\n",
    "        print(\"y_train shape:\",self.__y_train.shape)\n",
    "        print(\"y_test shape:\",self.__y_test.shape)\n",
    "    @property\n",
    "    def predict(self):\n",
    "        \n",
    "        \n",
    "        return self.__regressor.predict(self.__x_test)\n",
    "    @property\n",
    "    def accuracy(self):\n",
    "        previsoes = self.predict\n",
    "        \n",
    "        print(\"Acuracia do modelo: %.2f \" % r2_score(previsoes,self.__y_test))\n",
    "    \n",
    "    "
   ]
  },
  {
   "cell_type": "code",
   "execution_count": 224,
   "metadata": {},
   "outputs": [],
   "source": [
    "#ADAPTEE (define uma interface existente que necessita ser adaptada)\n",
    "class Classifier(ClfInterface):\n",
    "    def __init__(self,classifier,data,x,y):\n",
    "        self.classifier = classifier\n",
    "        self.data = data\n",
    "        self.x = x\n",
    "        self.y = y\n",
    "        self.x_train = None\n",
    "        self.x_test = None\n",
    "        self.y_train = None\n",
    "        self.y_test = None\n",
    "        \n",
    "    @property\n",
    "    def confusion_matrix(self):\n",
    "        predict = self.classifier.predict(self.x_test)\n",
    "        print(\"Matriz confusão: \\n\",confusion_matrix(predict,self.y_test))\n",
    "    "
   ]
  },
  {
   "cell_type": "code",
   "execution_count": 225,
   "metadata": {},
   "outputs": [],
   "source": [
    "#ADAPTER (dapta a interface Adaptee para a interface da classe Target)\n",
    "class Adapter(RgInterface):\n",
    "    def __init__(self,classifier):\n",
    "        self.__classifier = classifier\n",
    "        \n",
    "    @property\n",
    "    def train_model(self):\n",
    "        self.__classifier.x_train,self.__classifier.x_test,self.__classifier.y_train,self.__classifier.y_test = train_test_split(self.__classifier.x,\n",
    "                                                                                                                                 self.__classifier.y,\n",
    "                                                                                                                                 test_size=0.2,\n",
    "                                                                                                                                 shuffle=True,\n",
    "                                                                                                                                random_state=1)\n",
    "        self.__classifier.classifier.fit(self.__classifier.x_train,self.__classifier.y_train)\n",
    "        \n",
    "    @property\n",
    "    def show_all_shapes(self):\n",
    "        print(\"x_train shape:\",self.__classifier.x_train.shape)\n",
    "        print(\"x_test shape:\",self.__classifier.x_test.shape)\n",
    "        print(\"y_train shape:\",self.__classifier.y_train.shape)\n",
    "        print(\"y_test shape:\",self.__classifier.y_test.shape)\n",
    "    @property\n",
    "    def predict(self):\n",
    "        \n",
    "        \n",
    "        return self.__classifier.classifier.predict(self.__classifier.x_test)\n",
    "    @property\n",
    "    def accuracy(self):\n",
    "        previsoes = self.predict\n",
    "        \n",
    "        print(\"Acuracia do modelo: %.2f \" % accuracy_score(previsoes,self.__classifier.y_test))\n",
    "    @property\n",
    "    def confusion_matrix(self):\n",
    "        self.__classifier.confusion_matrix"
   ]
  },
  {
   "cell_type": "code",
   "execution_count": 226,
   "metadata": {},
   "outputs": [],
   "source": [
    "df = pd.read_csv('heart_proba.csv')\n",
    "y = df.output_proba.values\n",
    "x = df.drop('output_proba',axis=1).values"
   ]
  },
  {
   "cell_type": "code",
   "execution_count": 227,
   "metadata": {},
   "outputs": [],
   "source": [
    "reg_line = Regressor(LinearRegression(),df,x,y)"
   ]
  },
  {
   "cell_type": "code",
   "execution_count": 228,
   "metadata": {},
   "outputs": [],
   "source": [
    "reg_line.train_model"
   ]
  },
  {
   "cell_type": "code",
   "execution_count": 229,
   "metadata": {},
   "outputs": [
    {
     "name": "stdout",
     "output_type": "stream",
     "text": [
      "x_train shape: (241, 14)\n",
      "x_test shape: (61, 14)\n",
      "y_train shape: (241,)\n",
      "y_test shape: (61,)\n"
     ]
    }
   ],
   "source": [
    "reg_line.show_all_shapes"
   ]
  },
  {
   "cell_type": "code",
   "execution_count": 230,
   "metadata": {},
   "outputs": [
    {
     "name": "stdout",
     "output_type": "stream",
     "text": [
      "Acuracia do modelo: 0.92 \n"
     ]
    }
   ],
   "source": [
    "reg_line.accuracy"
   ]
  },
  {
   "cell_type": "code",
   "execution_count": 231,
   "metadata": {},
   "outputs": [],
   "source": [
    "rf = Regressor(RandomForestRegressor(max_depth=15,n_estimators=370),df,x,y)"
   ]
  },
  {
   "cell_type": "code",
   "execution_count": 232,
   "metadata": {},
   "outputs": [],
   "source": [
    "rf.train_model"
   ]
  },
  {
   "cell_type": "code",
   "execution_count": 233,
   "metadata": {},
   "outputs": [
    {
     "name": "stdout",
     "output_type": "stream",
     "text": [
      "Acuracia do modelo: 0.91 \n"
     ]
    }
   ],
   "source": [
    "rf.accuracy"
   ]
  },
  {
   "cell_type": "code",
   "execution_count": 234,
   "metadata": {},
   "outputs": [],
   "source": [
    "data = pd.read_csv('heart.csv')\n",
    "y = data.output.values\n",
    "x = data.drop('output',axis=1).values"
   ]
  },
  {
   "cell_type": "code",
   "execution_count": 235,
   "metadata": {},
   "outputs": [],
   "source": [
    "rf = Classifier(RandomForestClassifier(max_depth=100,n_estimators=10),data,x,y)"
   ]
  },
  {
   "cell_type": "code",
   "execution_count": 236,
   "metadata": {},
   "outputs": [],
   "source": [
    "AdapterRf = Adapter(rf)"
   ]
  },
  {
   "cell_type": "code",
   "execution_count": 237,
   "metadata": {},
   "outputs": [],
   "source": [
    "AdapterRf.train_model"
   ]
  },
  {
   "cell_type": "code",
   "execution_count": 238,
   "metadata": {},
   "outputs": [
    {
     "name": "stdout",
     "output_type": "stream",
     "text": [
      "x_train shape: (242, 13)\n",
      "x_test shape: (61, 13)\n",
      "y_train shape: (242,)\n",
      "y_test shape: (61,)\n"
     ]
    }
   ],
   "source": [
    "AdapterRf.show_all_shapes"
   ]
  },
  {
   "cell_type": "code",
   "execution_count": 239,
   "metadata": {},
   "outputs": [
    {
     "name": "stdout",
     "output_type": "stream",
     "text": [
      "Acuracia do modelo: 0.74 \n"
     ]
    }
   ],
   "source": [
    "AdapterRf.accuracy"
   ]
  },
  {
   "cell_type": "code",
   "execution_count": 240,
   "metadata": {},
   "outputs": [
    {
     "name": "stdout",
     "output_type": "stream",
     "text": [
      "Matriz confusão: \n",
      " [[21  7]\n",
      " [ 9 24]]\n"
     ]
    }
   ],
   "source": [
    "AdapterRf.confusion_matrix"
   ]
  },
  {
   "cell_type": "code",
   "execution_count": 241,
   "metadata": {},
   "outputs": [],
   "source": [
    "svm = Classifier(SVC(kernel='linear',C=600),data,x,y)"
   ]
  },
  {
   "cell_type": "code",
   "execution_count": 242,
   "metadata": {},
   "outputs": [],
   "source": [
    "AdapterSvm = Adapter(svm)"
   ]
  },
  {
   "cell_type": "code",
   "execution_count": 243,
   "metadata": {},
   "outputs": [],
   "source": [
    "AdapterSvm.train_model"
   ]
  },
  {
   "cell_type": "code",
   "execution_count": 244,
   "metadata": {},
   "outputs": [
    {
     "name": "stdout",
     "output_type": "stream",
     "text": [
      "x_train shape: (242, 13)\n",
      "x_test shape: (61, 13)\n",
      "y_train shape: (242,)\n",
      "y_test shape: (61,)\n"
     ]
    }
   ],
   "source": [
    "AdapterSvm.show_all_shapes"
   ]
  },
  {
   "cell_type": "code",
   "execution_count": 245,
   "metadata": {},
   "outputs": [
    {
     "name": "stdout",
     "output_type": "stream",
     "text": [
      "Acuracia do modelo: 0.75 \n"
     ]
    }
   ],
   "source": [
    "AdapterSvm.accuracy"
   ]
  },
  {
   "cell_type": "code",
   "execution_count": 246,
   "metadata": {},
   "outputs": [],
   "source": [
    "AdapterSvm.train_model"
   ]
  },
  {
   "cell_type": "code",
   "execution_count": 247,
   "metadata": {},
   "outputs": [
    {
     "name": "stdout",
     "output_type": "stream",
     "text": [
      "Matriz confusão: \n",
      " [[19  4]\n",
      " [11 27]]\n"
     ]
    }
   ],
   "source": [
    "AdapterSvm.confusion_matrix"
   ]
  },
  {
   "cell_type": "code",
   "execution_count": null,
   "metadata": {},
   "outputs": [],
   "source": []
  },
  {
   "cell_type": "code",
   "execution_count": null,
   "metadata": {},
   "outputs": [],
   "source": []
  }
 ],
 "metadata": {
  "kernelspec": {
   "display_name": "Python 3",
   "language": "python",
   "name": "python3"
  },
  "language_info": {
   "codemirror_mode": {
    "name": "ipython",
    "version": 3
   },
   "file_extension": ".py",
   "mimetype": "text/x-python",
   "name": "python",
   "nbconvert_exporter": "python",
   "pygments_lexer": "ipython3",
   "version": "3.7.6"
  }
 },
 "nbformat": 4,
 "nbformat_minor": 4
}
